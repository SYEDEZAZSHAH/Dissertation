{
 "cells": [
  {
   "cell_type": "code",
   "execution_count": 9,
   "id": "2136ff6d",
   "metadata": {},
   "outputs": [],
   "source": [
    "import requests\n",
    "import json\n",
    "import pandas as pd\n",
    "\n",
    "def get_posts(subreddit, before, after, size):\n",
    "    url = f\"https://api.pushshift.io/reddit/search/submission/?subreddit={subreddit}&size={size}&before={before}&after={after}\"\n",
    "    r = requests.get(url)\n",
    "    data = json.loads(r.text)\n",
    "    return data['data']\n",
    "\n",
    "# Scrape 1000 legal question titles\n",
    "legal_questions = []\n",
    "size = 100\n",
    "after = \"7d\" # posts from the last 7 days\n",
    "before = \"\" # no upper time limit\n",
    "subreddit = \"legaladvice\"\n",
    "while len(legal_questions) < 1000: # scrape until we have 1000 legal questions\n",
    "    data = get_posts(subreddit, before, after, size)\n",
    "    if not data: # if data is empty, break out of loop\n",
    "        break\n",
    "    for post in data:\n",
    "        legal_questions.append({\"title\": post[\"title\"], \"label\": 1})\n",
    "        if len(legal_questions) >= 1000: # break out of loop if we have 1000 legal questions\n",
    "            break\n",
    "    before = data[-1][\"created_utc\"] # set before time for next page\n",
    "\n",
    "# Scrape 1000 non-legal question titles\n",
    "non_legal_questions = []\n",
    "size = 100\n",
    "after = \"7d\" # posts from the last 7 days\n",
    "before = \"\" # no upper time limit\n",
    "subreddit = \"askreddit\"\n",
    "while len(non_legal_questions) < 1000: # scrape until we have 1000 non-legal questions\n",
    "    data = get_posts(subreddit, before, after, size)\n",
    "    if not data: # if data is empty, break out of loop\n",
    "        break\n",
    "    for post in data:\n",
    "        title = post[\"title\"]\n",
    "        if \"legal\" not in title.lower() and \"law\" not in title.lower() and \"court\" not in title.lower():\n",
    "            non_legal_questions.append({\"title\": title, \"label\": 0})\n",
    "            if len(non_legal_questions) >= 1000: # break out of loop if we have 1000 non-legal questions\n",
    "                break\n",
    "    before = data[-1][\"created_utc\"] # set before time for next page\n",
    "\n",
    "# Combine legal and non-legal questions into a single list and shuffle the order\n",
    "questions = legal_questions + non_legal_questions\n",
    "import random\n",
    "random.shuffle(questions)\n",
    "\n",
    "# Convert list of questions to a dataframe and save to a CSV file\n",
    "df = pd.DataFrame(questions)\n",
    "df.to_csv(\"questions.csv\", index=False)\n"
   ]
  },
  {
   "cell_type": "code",
   "execution_count": 17,
   "id": "3436c0db",
   "metadata": {},
   "outputs": [
    {
     "name": "stdout",
     "output_type": "stream",
     "text": [
      "Enter a question: Imran khan is a hero\n",
      "This is not a legal question.\n"
     ]
    }
   ],
   "source": [
    "import pandas as pd\n",
    "from sklearn.feature_extraction.text import CountVectorizer\n",
    "from sklearn.naive_bayes import MultinomialNB\n",
    "\n",
    "# load questions data from CSV file\n",
    "df = pd.read_csv('questions.csv')\n",
    "\n",
    "# split data into training and testing sets\n",
    "train_df = df[:1600]\n",
    "test_df = df[1600:]\n",
    "\n",
    "# vectorize training data\n",
    "vectorizer = CountVectorizer()\n",
    "X_train = vectorizer.fit_transform(train_df['title'])\n",
    "y_train = train_df['label']\n",
    "\n",
    "# train Naive Bayes model\n",
    "model = MultinomialNB()\n",
    "model.fit(X_train, y_train)\n",
    "\n",
    "# function to classify user input\n",
    "def classify_input(input_str):\n",
    "    X = vectorizer.transform([input_str])\n",
    "    y_pred = model.predict(X)\n",
    "    return y_pred[0]\n",
    "\n",
    "# example usage\n",
    "input_str = input('Enter a question: ')\n",
    "label = classify_input(input_str)\n",
    "if label == 1:\n",
    "    print('This is a legal question.')\n",
    "else:\n",
    "    print('This is not a legal question.')\n"
   ]
  },
  {
   "cell_type": "code",
   "execution_count": 19,
   "id": "8f47bd06",
   "metadata": {},
   "outputs": [
    {
     "name": "stdout",
     "output_type": "stream",
     "text": [
      "Enter a question: who is Imran khan\n",
      "This is not a legal question.\n"
     ]
    }
   ],
   "source": [
    "from sklearn.linear_model import LogisticRegression\n",
    "\n",
    "# load questions data from CSV file\n",
    "df = pd.read_csv('questions.csv')\n",
    "\n",
    "# split data into training and testing sets\n",
    "train_df = df[:1600]\n",
    "test_df = df[1600:]\n",
    "\n",
    "# vectorize training data\n",
    "vectorizer = CountVectorizer()\n",
    "X_train = vectorizer.fit_transform(train_df['title'])\n",
    "y_train = train_df['label']\n",
    "\n",
    "# train Logistic Regression model\n",
    "model = LogisticRegression()\n",
    "model.fit(X_train, y_train)\n",
    "\n",
    "# function to classify user input\n",
    "def classify_input(input_str):\n",
    "    X = vectorizer.transform([input_str])\n",
    "    y_pred = model.predict(X)\n",
    "    return y_pred[0]\n",
    "\n",
    "# example usage\n",
    "input_str = input('Enter a question: ')\n",
    "label = classify_input(input_str)\n",
    "if label == 1:\n",
    "    print('This is a legal question.')\n",
    "else:\n",
    "    print('This is not a legal question.')\n"
   ]
  },
  {
   "cell_type": "code",
   "execution_count": 27,
   "id": "423b9e67",
   "metadata": {},
   "outputs": [
    {
     "name": "stdout",
     "output_type": "stream",
     "text": [
      "Enter a question: what should I do when I am in police station after committing a crime?\n",
      "This is a legal question.\n"
     ]
    }
   ],
   "source": [
    "# import necessary modules\n",
    "from sklearn.tree import DecisionTreeClassifier\n",
    "from sklearn.feature_extraction.text import CountVectorizer\n",
    "\n",
    "# vectorize training data\n",
    "vectorizer = CountVectorizer()\n",
    "X_train = vectorizer.fit_transform(train_df['title'])\n",
    "y_train = train_df['label']\n",
    "\n",
    "# train decision tree model\n",
    "clf = DecisionTreeClassifier()\n",
    "clf.fit(X_train, y_train)\n",
    "\n",
    "# get input from user\n",
    "input_str = input(\"Enter a question: \")\n",
    "\n",
    "# vectorize input string\n",
    "X_input = vectorizer.transform([input_str])\n",
    "\n",
    "# classify input string\n",
    "predicted_label = clf.predict(X_input)[0]\n",
    "if predicted_label == 1:\n",
    "    print(\"This is a legal question.\")\n",
    "else:\n",
    "    print(\"This is not a legal question.\")\n"
   ]
  },
  {
   "cell_type": "code",
   "execution_count": 36,
   "id": "47f4c6dd",
   "metadata": {},
   "outputs": [
    {
     "name": "stdout",
     "output_type": "stream",
     "text": [
      "Enter your question:  what should I do when I am in police station after committing a crime?\n",
      "This is not a legal question.\n"
     ]
    }
   ],
   "source": [
    "from sklearn.ensemble import BaggingClassifier\n",
    "from sklearn.tree import DecisionTreeClassifier\n",
    "from sklearn.feature_extraction.text import CountVectorizer\n",
    "\n",
    "# create a Bagging Decision Tree classifier\n",
    "bagging_classifier = BaggingClassifier(base_estimator=DecisionTreeClassifier(),\n",
    "                                       n_estimators=10,\n",
    "                                       random_state=42)\n",
    "\n",
    "# vectorize training data\n",
    "vectorizer = CountVectorizer()\n",
    "X_train = vectorizer.fit_transform(train_df['title'])\n",
    "y_train = train_df['label']\n",
    "\n",
    "# train the classifier\n",
    "bagging_classifier.fit(X_train, y_train)\n",
    "\n",
    "# take input from the user\n",
    "user_input = input(\"Enter your question: \")\n",
    "\n",
    "# vectorize the user input\n",
    "X_user = vectorizer.transform([user_input])\n",
    "\n",
    "# predict the label of the user input\n",
    "prediction = bagging_classifier.predict(X_user)\n",
    "\n",
    "# print the predicted label\n",
    "if prediction[0] == 1:\n",
    "    print(\"This is a legal question.\")\n",
    "else:\n",
    "    print(\"This is not a legal question.\")\n"
   ]
  }
 ],
 "metadata": {
  "kernelspec": {
   "display_name": "Python 3 (ipykernel)",
   "language": "python",
   "name": "python3"
  },
  "language_info": {
   "codemirror_mode": {
    "name": "ipython",
    "version": 3
   },
   "file_extension": ".py",
   "mimetype": "text/x-python",
   "name": "python",
   "nbconvert_exporter": "python",
   "pygments_lexer": "ipython3",
   "version": "3.9.13"
  }
 },
 "nbformat": 4,
 "nbformat_minor": 5
}
